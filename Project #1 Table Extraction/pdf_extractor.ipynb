{
 "cells": [
  {
   "cell_type": "markdown",
   "metadata": {},
   "source": [
    "# Project #1 Table Extraction : Extract Tables from PDFs using camelot-py"
   ]
  },
  {
   "cell_type": "code",
   "execution_count": 7,
   "metadata": {},
   "outputs": [
    {
     "name": "stdout",
     "output_type": "stream",
     "text": [
      "Requirement already satisfied: camelot-py in c:\\users\\caleb\\appdata\\local\\programs\\python\\python312\\lib\\site-packages (0.11.0)\n",
      "Requirement already satisfied: chardet>=3.0.4 in c:\\users\\caleb\\appdata\\local\\programs\\python\\python312\\lib\\site-packages (from camelot-py) (5.2.0)\n",
      "Requirement already satisfied: click>=6.7 in c:\\users\\caleb\\appdata\\local\\programs\\python\\python312\\lib\\site-packages (from camelot-py) (8.1.7)\n",
      "Requirement already satisfied: numpy>=1.13.3 in c:\\users\\caleb\\appdata\\local\\programs\\python\\python312\\lib\\site-packages (from camelot-py) (2.0.0)\n",
      "Requirement already satisfied: openpyxl>=2.5.8 in c:\\users\\caleb\\appdata\\local\\programs\\python\\python312\\lib\\site-packages (from camelot-py) (3.1.4)\n",
      "Requirement already satisfied: pandas>=0.23.4 in c:\\users\\caleb\\appdata\\local\\programs\\python\\python312\\lib\\site-packages (from camelot-py) (2.2.2)\n",
      "Requirement already satisfied: pdfminer.six>=20200726 in c:\\users\\caleb\\appdata\\local\\programs\\python\\python312\\lib\\site-packages (from camelot-py) (20231228)\n",
      "Requirement already satisfied: pypdf>=3.0.0 in c:\\users\\caleb\\appdata\\local\\programs\\python\\python312\\lib\\site-packages (from camelot-py) (4.2.0)\n",
      "Requirement already satisfied: tabulate>=0.8.9 in c:\\users\\caleb\\appdata\\local\\programs\\python\\python312\\lib\\site-packages (from camelot-py) (0.9.0)\n",
      "Requirement already satisfied: colorama in c:\\users\\caleb\\appdata\\roaming\\python\\python312\\site-packages (from click>=6.7->camelot-py) (0.4.6)\n",
      "Requirement already satisfied: et-xmlfile in c:\\users\\caleb\\appdata\\local\\programs\\python\\python312\\lib\\site-packages (from openpyxl>=2.5.8->camelot-py) (1.1.0)\n",
      "Requirement already satisfied: python-dateutil>=2.8.2 in c:\\users\\caleb\\appdata\\local\\programs\\python\\python312\\lib\\site-packages (from pandas>=0.23.4->camelot-py) (2.9.0.post0)\n",
      "Requirement already satisfied: pytz>=2020.1 in c:\\users\\caleb\\appdata\\local\\programs\\python\\python312\\lib\\site-packages (from pandas>=0.23.4->camelot-py) (2024.1)\n",
      "Requirement already satisfied: tzdata>=2022.7 in c:\\users\\caleb\\appdata\\local\\programs\\python\\python312\\lib\\site-packages (from pandas>=0.23.4->camelot-py) (2024.1)\n",
      "Requirement already satisfied: charset-normalizer>=2.0.0 in c:\\users\\caleb\\appdata\\local\\programs\\python\\python312\\lib\\site-packages (from pdfminer.six>=20200726->camelot-py) (3.3.2)\n",
      "Requirement already satisfied: cryptography>=36.0.0 in c:\\users\\caleb\\appdata\\local\\programs\\python\\python312\\lib\\site-packages (from pdfminer.six>=20200726->camelot-py) (42.0.8)\n",
      "Requirement already satisfied: cffi>=1.12 in c:\\users\\caleb\\appdata\\local\\programs\\python\\python312\\lib\\site-packages (from cryptography>=36.0.0->pdfminer.six>=20200726->camelot-py) (1.16.0)\n",
      "Requirement already satisfied: six>=1.5 in c:\\users\\caleb\\appdata\\local\\programs\\python\\python312\\lib\\site-packages (from python-dateutil>=2.8.2->pandas>=0.23.4->camelot-py) (1.16.0)\n",
      "Requirement already satisfied: pycparser in c:\\users\\caleb\\appdata\\local\\programs\\python\\python312\\lib\\site-packages (from cffi>=1.12->cryptography>=36.0.0->pdfminer.six>=20200726->camelot-py) (2.22)\n",
      "Note: you may need to restart the kernel to use updated packages.\n",
      "Requirement already satisfied: opencv-python in c:\\users\\caleb\\appdata\\local\\programs\\python\\python312\\lib\\site-packages (4.10.0.84)\n",
      "Requirement already satisfied: numpy>=1.21.2 in c:\\users\\caleb\\appdata\\local\\programs\\python\\python312\\lib\\site-packages (from opencv-python) (2.0.0)\n",
      "Note: you may need to restart the kernel to use updated packages.\n",
      "Requirement already satisfied: tk in c:\\users\\caleb\\appdata\\local\\programs\\python\\python312\\lib\\site-packages (0.1.0)\n",
      "Note: you may need to restart the kernel to use updated packages.\n",
      "Requirement already satisfied: ghostscript in c:\\users\\caleb\\appdata\\local\\programs\\python\\python312\\lib\\site-packages (0.7)\n",
      "Requirement already satisfied: setuptools>=38.6.0 in c:\\users\\caleb\\appdata\\local\\programs\\python\\python312\\lib\\site-packages (from ghostscript) (70.1.0)\n",
      "Note: you may need to restart the kernel to use updated packages.\n"
     ]
    }
   ],
   "source": [
    "#Importing camelot library\n",
    "%pip install camelot-py\n",
    "%pip install opencv-python\n",
    "%pip install tk\n",
    "%pip install ghostscript"
   ]
  },
  {
   "cell_type": "code",
   "execution_count": 2,
   "metadata": {},
   "outputs": [],
   "source": [
    "#Importing camelot library\n",
    "import camelot"
   ]
  },
  {
   "cell_type": "code",
   "execution_count": 4,
   "metadata": {},
   "outputs": [],
   "source": [
    "#Reading pdf file\n",
    "tables = camelot.read_pdf(\"./foo.pdf\", pages='1')"
   ]
  },
  {
   "cell_type": "code",
   "execution_count": 5,
   "metadata": {},
   "outputs": [
    {
     "data": {
      "text/plain": [
       "<TableList n=1>"
      ]
     },
     "execution_count": 5,
     "metadata": {},
     "output_type": "execute_result"
    }
   ],
   "source": [
    "#Showing pdf file\n",
    "tables"
   ]
  },
  {
   "cell_type": "code",
   "execution_count": 6,
   "metadata": {},
   "outputs": [],
   "source": [
    "#Exporting pdf file\n",
    "tables.export(\"foo.csv\", f=\"csv\", compress=True)"
   ]
  },
  {
   "cell_type": "code",
   "execution_count": 7,
   "metadata": {},
   "outputs": [],
   "source": [
    "#Exporting only first table as csv file\n",
    "tables[0].to_csv(\"foo.csv\")"
   ]
  }
 ],
 "metadata": {
  "kernelspec": {
   "display_name": "Python 3",
   "language": "python",
   "name": "python3"
  },
  "language_info": {
   "codemirror_mode": {
    "name": "ipython",
    "version": 3
   },
   "file_extension": ".py",
   "mimetype": "text/x-python",
   "name": "python",
   "nbconvert_exporter": "python",
   "pygments_lexer": "ipython3",
   "version": "3.12.3"
  }
 },
 "nbformat": 4,
 "nbformat_minor": 2
}
